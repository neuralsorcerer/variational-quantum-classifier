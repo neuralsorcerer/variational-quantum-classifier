{
 "cells": [
  {
   "cell_type": "markdown",
   "id": "1d6480c9-a0e4-4a06-8820-4ab854abfdff",
   "metadata": {},
   "source": [
    "# Implementing and Visualizing a Variational Quantum Classifier for Binary Classification\n",
    "\n",
    "We are implementing a simple quantum machine learning (QML) model to solve a binary classification problem. The data is two-dimensional (2D) and can be classified into two classes labeled as $\\{−1, +1\\}$."
   ]
  },
  {
   "cell_type": "markdown",
   "id": "428da237-2656-41ab-8721-60d00c153680",
   "metadata": {},
   "source": [
    "## Import Necessary Libraries\n",
    "\n",
    "- `pennylane`: A library for quantum machine learning. It lets us define quantum circuits, take their derivatives, and integrate seamlessly with classical ML code.\n",
    "- `pennylane.numpy`: A NumPy interface that plays nicely with automatic differentiation.\n",
    "- `sklearn`: Used to generate and split a synthetic dataset.\n",
    "- `matplotlib`: For plotting the loss and accuracy over epochs."
   ]
  },
  {
   "cell_type": "code",
   "execution_count": 1,
   "id": "202ca1ee-7b36-4cb7-857d-53c93cc21803",
   "metadata": {},
   "outputs": [],
   "source": [
    "import pennylane as qml\n",
    "from pennylane import numpy as np\n",
    "from sklearn.datasets import make_classification\n",
    "from sklearn.model_selection import train_test_split\n",
    "import matplotlib.pyplot as plt"
   ]
  },
  {
   "cell_type": "markdown",
   "id": "243152eb-26f3-401e-a2a1-8205a7afb66d",
   "metadata": {},
   "source": [
    "## Data Preparation\n",
    "\n",
    "The labels are converted to $\\{−1, +1\\}$ because our quantum model’s output (an expectation value of a Pauli-Z measurement) naturally ranges from $-1$ to $+1$."
   ]
  },
  {
   "cell_type": "code",
   "execution_count": 2,
   "id": "c5ba74c1-b172-44c4-a794-dc27b8dd60dc",
   "metadata": {},
   "outputs": [],
   "source": [
    "# Generate a 2D classification dataset\n",
    "X, y = make_classification(n_samples=100, n_features=2, n_informative=2, \n",
    "                           n_redundant=0, n_clusters_per_class=1, random_state=42)\n",
    "\n",
    "# Normalize features\n",
    "X = (X - np.mean(X, axis=0)) / np.std(X, axis=0)\n",
    "\n",
    "# Split into training and test sets\n",
    "X_train, X_test, y_train, y_test = train_test_split(X, y, test_size=0.2, random_state=42)\n",
    "\n",
    "# Convert labels from {0, 1} to {-1, +1}\n",
    "y_train = 2*y_train - 1\n",
    "y_test = 2*y_test - 1"
   ]
  },
  {
   "cell_type": "markdown",
   "id": "0d566335-8d09-4684-91b1-b6790126c596",
   "metadata": {},
   "source": [
    "## Quantum Device and Circuit Setup\n",
    "\n",
    "- We choose a 2-qubit quantum simulator (default.qubit device) from PennyLane.\n",
    "- Each input vector $x = (x_1, x_2)$ will be encoded into the states of these two qubits."
   ]
  },
  {
   "cell_type": "code",
   "execution_count": 3,
   "id": "6ed887d0-4c5e-4763-af3c-c6b38b8985f3",
   "metadata": {},
   "outputs": [],
   "source": [
    "n_qubits = 2\n",
    "dev = qml.device(\"default.qubit\", wires=n_qubits)"
   ]
  },
  {
   "cell_type": "markdown",
   "id": "fe7ed2e0-eb3d-4629-908b-318f74b1f028",
   "metadata": {},
   "source": [
    "## Parametric Quantum Circuit (Ansatz)\n",
    "\n",
    "#### Feature Encoding:\n",
    "We take the classical vector $x = (x_1, x_2)$ and encode it into a quantum state. `AngleEmbedding` uses the given real values as rotation angles about the Y-axis. Initially, a single qubit starts in the state $|0\\rangle$. After applying $R_Y(x_1)$ on the first qubit and $R_Y(x_2)$ on the second qubit, the quantum state becomes:\n",
    "\n",
    "$$\n",
    "|\\psi(x)\\rangle = R_Y(x_1)|0\\rangle \\otimes R_Y(x_2)|0\\rangle\n",
    "$$"
   ]
  },
  {
   "cell_type": "code",
   "execution_count": 4,
   "id": "b7dac612-0626-44b8-bff2-cf40931fe068",
   "metadata": {},
   "outputs": [],
   "source": [
    "def feature_encoding(x):\n",
    "    # Encode each feature into a qubit's rotation angle.\n",
    "    # Here we use AngleEmbedding from PennyLane\n",
    "    qml.AngleEmbedding(x, wires=range(n_qubits), rotation='Y')"
   ]
  },
  {
   "cell_type": "markdown",
   "id": "57499352-a330-4abd-b1cf-699576de5ec8",
   "metadata": {},
   "source": [
    "#### Variational Circuit:\n",
    "For each layer $l$:\n",
    "- We apply rotations $R_X(\\theta_{l,i,1}),\\: R_Y(\\theta_{l,i,2}),\\: \\text{and}\\:  R_Z(\\theta_{l,i,3})$ on the $i$-th qubit, where $\\theta_{l,i,j}$ are the parameters in `params`.\n",
    "- Then we apply entangling CNOT gates to create correlations between qubits.\n",
    "\n",
    "The final measurement is:\n",
    "$$\n",
    "f_\\theta(x) = \\langle 0| U^\\dagger(\\theta, x) Z_0 U(\\theta, x) |0\\rangle^{\\otimes n}\n",
    "$$\n",
    "where $U(\\theta, x)$ represents the entire unitary transformation encoded by the feature embedding and the variational parameters.\n",
    "\n",
    "This expectation value is a real number in $[-1, +1]$ and serves as our model’s prediction."
   ]
  },
  {
   "cell_type": "code",
   "execution_count": 5,
   "id": "6d9b8b89-660e-418a-86f9-bff6a1d2e71c",
   "metadata": {},
   "outputs": [],
   "source": [
    "def variational_circuit(params, x):\n",
    "    # Encode features into qubits\n",
    "    feature_encoding(x)\n",
    "    \n",
    "    # params shape: (num_layers, n_qubits, 3)\n",
    "    # Each qubit in each layer has 3 parameters for RX, RY, and RZ rotations\n",
    "    for layer_params in params:\n",
    "        for i, wire_params in enumerate(layer_params):\n",
    "            qml.RX(wire_params[0], wires=i)\n",
    "            qml.RY(wire_params[1], wires=i)\n",
    "            qml.RZ(wire_params[2], wires=i)\n",
    "        \n",
    "        # Entangle the qubits with CNOT gates\n",
    "        for i in range(n_qubits - 1):\n",
    "            qml.CNOT(wires=[i, i+1])\n",
    "    \n",
    "    # Measure expectation value of Pauli-Z on the first qubit\n",
    "    return qml.expval(qml.PauliZ(0))"
   ]
  },
  {
   "cell_type": "markdown",
   "id": "d42c92ff-8eb5-460d-ab01-5b04f6fe06bc",
   "metadata": {},
   "source": [
    "The `@qml.qnode` decorator transforms `variational_circuit` into a differentiable function `quantum_model` which we can optimize using PennyLane’s auto-differentiation."
   ]
  },
  {
   "cell_type": "code",
   "execution_count": 6,
   "id": "0b777638-524a-4a1d-a865-ea00d77f49a8",
   "metadata": {},
   "outputs": [],
   "source": [
    "@qml.qnode(dev, interface='autograd')\n",
    "def quantum_model(params, x):\n",
    "    return variational_circuit(params, x)"
   ]
  },
  {
   "cell_type": "markdown",
   "id": "b878e86d-00d4-4a60-b2f2-0b14c9d0a74e",
   "metadata": {},
   "source": [
    "## Loss and Accuracy\n",
    "- **Loss:** The loss function is defined as:\n",
    "    $$\n",
    "      L(\\theta) = \\frac{1}{N} \\sum_{i=1}^{N} \\left( f_\\theta(x^{(i)}) - y^{(i)} \\right)^2\n",
    "    $$\n",
    "\n",
    "- **Accuracy:** The prediction is considered correct if $\\quad \\text{sign}(f_\\theta(x)) = y$"
   ]
  },
  {
   "cell_type": "code",
   "execution_count": 7,
   "id": "b3ba02ae-192f-47de-9624-f4ee45df39ba",
   "metadata": {},
   "outputs": [],
   "source": [
    "def loss(params, X, Y):\n",
    "    predictions = [quantum_model(params, x) for x in X]\n",
    "    predictions = np.stack(predictions)\n",
    "    # Mean Squared Error: (fθ(x) - y)^2 averaged over the dataset\n",
    "    return np.mean((predictions - Y)**2)\n",
    "\n",
    "def accuracy(params, X, Y):\n",
    "    predictions = [quantum_model(params, x) for x in X]\n",
    "    predictions = np.sign(np.stack(predictions))\n",
    "    return np.mean(predictions == Y)"
   ]
  },
  {
   "cell_type": "markdown",
   "id": "36e29f07-b18c-423a-a858-bf8829f486de",
   "metadata": {},
   "source": [
    "## Parameter Initialization\n",
    "\n",
    "We start the parameters $\\theta$ near zero. This often helps avoid initial problems with gradients."
   ]
  },
  {
   "cell_type": "code",
   "execution_count": 8,
   "id": "2ba8a779-6d4a-4047-bb31-c91adb765561",
   "metadata": {},
   "outputs": [],
   "source": [
    "num_layers = 2\n",
    "params = 0.01 * np.random.randn(num_layers, n_qubits, 3)"
   ]
  },
  {
   "cell_type": "markdown",
   "id": "7186cfa1-fb22-4550-9664-989a5f4b6008",
   "metadata": {},
   "source": [
    "## Optimization\n",
    "\n",
    "- We use a simple gradient descent optimizer with a 0.1 learning rate.\n",
    "- We will train for 50 epochs, recording metrics each time."
   ]
  },
  {
   "cell_type": "code",
   "execution_count": 9,
   "id": "5d8991f6-d7e4-4089-a6b3-a59087fe84bf",
   "metadata": {},
   "outputs": [],
   "source": [
    "opt = qml.GradientDescentOptimizer(stepsize=0.1)\n",
    "num_epochs = 50\n",
    "\n",
    "epoch_list = []\n",
    "loss_list = []\n",
    "train_acc_list = []\n",
    "test_acc_list = []"
   ]
  },
  {
   "cell_type": "markdown",
   "id": "dc438830-2434-4000-8121-98944b896b9c",
   "metadata": {},
   "source": [
    "## Training Loop\n",
    "\n",
    "#### *How Gradients Are Computed:*\n",
    "\n",
    "PennyLane uses the **parameter-shift rule** to compute derivatives of expectation values. For a single parameter $\\theta$, the derivative is given by:\n",
    "$$\n",
    "\\frac{\\partial}{\\partial \\theta} \\langle Z \\rangle = \\frac{f\\left(\\theta + \\frac{\\pi}{2}\\right) - f\\left(\\theta - \\frac{\\pi}{2}\\right)}{2}\n",
    "$$\n",
    "This rule allows us to compute exact gradients of quantum circuits without the need for finite differences for every parameter."
   ]
  },
  {
   "cell_type": "code",
   "execution_count": 10,
   "id": "f33544b0-d4a8-4977-9ba2-c558490b0619",
   "metadata": {},
   "outputs": [
    {
     "name": "stdout",
     "output_type": "stream",
     "text": [
      "Epoch 1/50: Loss = 1.8929, Train Acc = 0.42, Test Acc = 0.30\n",
      "Epoch 2/50: Loss = 1.8862, Train Acc = 0.42, Test Acc = 0.30\n",
      "Epoch 3/50: Loss = 1.8779, Train Acc = 0.44, Test Acc = 0.30\n",
      "Epoch 4/50: Loss = 1.8674, Train Acc = 0.45, Test Acc = 0.30\n",
      "Epoch 5/50: Loss = 1.8537, Train Acc = 0.45, Test Acc = 0.30\n",
      "Epoch 6/50: Loss = 1.8359, Train Acc = 0.45, Test Acc = 0.30\n",
      "Epoch 7/50: Loss = 1.8126, Train Acc = 0.45, Test Acc = 0.30\n",
      "Epoch 8/50: Loss = 1.7821, Train Acc = 0.45, Test Acc = 0.30\n",
      "Epoch 9/50: Loss = 1.7428, Train Acc = 0.45, Test Acc = 0.30\n",
      "Epoch 10/50: Loss = 1.6933, Train Acc = 0.44, Test Acc = 0.30\n",
      "Epoch 11/50: Loss = 1.6326, Train Acc = 0.42, Test Acc = 0.30\n",
      "Epoch 12/50: Loss = 1.5609, Train Acc = 0.41, Test Acc = 0.30\n",
      "Epoch 13/50: Loss = 1.4798, Train Acc = 0.41, Test Acc = 0.35\n",
      "Epoch 14/50: Loss = 1.3921, Train Acc = 0.46, Test Acc = 0.35\n",
      "Epoch 15/50: Loss = 1.3016, Train Acc = 0.50, Test Acc = 0.40\n",
      "Epoch 16/50: Loss = 1.2122, Train Acc = 0.51, Test Acc = 0.45\n",
      "Epoch 17/50: Loss = 1.1271, Train Acc = 0.55, Test Acc = 0.50\n",
      "Epoch 18/50: Loss = 1.0483, Train Acc = 0.57, Test Acc = 0.60\n",
      "Epoch 19/50: Loss = 0.9770, Train Acc = 0.57, Test Acc = 0.60\n",
      "Epoch 20/50: Loss = 0.9133, Train Acc = 0.61, Test Acc = 0.60\n",
      "Epoch 21/50: Loss = 0.8569, Train Acc = 0.65, Test Acc = 0.60\n",
      "Epoch 22/50: Loss = 0.8071, Train Acc = 0.66, Test Acc = 0.60\n",
      "Epoch 23/50: Loss = 0.7632, Train Acc = 0.69, Test Acc = 0.60\n",
      "Epoch 24/50: Loss = 0.7247, Train Acc = 0.69, Test Acc = 0.60\n",
      "Epoch 25/50: Loss = 0.6909, Train Acc = 0.70, Test Acc = 0.65\n",
      "Epoch 26/50: Loss = 0.6614, Train Acc = 0.70, Test Acc = 0.70\n",
      "Epoch 27/50: Loss = 0.6355, Train Acc = 0.70, Test Acc = 0.70\n",
      "Epoch 28/50: Loss = 0.6130, Train Acc = 0.71, Test Acc = 0.75\n",
      "Epoch 29/50: Loss = 0.5935, Train Acc = 0.76, Test Acc = 0.75\n",
      "Epoch 30/50: Loss = 0.5766, Train Acc = 0.76, Test Acc = 0.75\n",
      "Epoch 31/50: Loss = 0.5620, Train Acc = 0.76, Test Acc = 0.75\n",
      "Epoch 32/50: Loss = 0.5495, Train Acc = 0.76, Test Acc = 0.75\n",
      "Epoch 33/50: Loss = 0.5388, Train Acc = 0.76, Test Acc = 0.75\n",
      "Epoch 34/50: Loss = 0.5297, Train Acc = 0.76, Test Acc = 0.75\n",
      "Epoch 35/50: Loss = 0.5218, Train Acc = 0.76, Test Acc = 0.85\n",
      "Epoch 36/50: Loss = 0.5152, Train Acc = 0.79, Test Acc = 0.85\n",
      "Epoch 37/50: Loss = 0.5095, Train Acc = 0.81, Test Acc = 0.85\n",
      "Epoch 38/50: Loss = 0.5046, Train Acc = 0.81, Test Acc = 0.85\n",
      "Epoch 39/50: Loss = 0.5005, Train Acc = 0.80, Test Acc = 0.85\n",
      "Epoch 40/50: Loss = 0.4970, Train Acc = 0.80, Test Acc = 0.85\n",
      "Epoch 41/50: Loss = 0.4939, Train Acc = 0.80, Test Acc = 0.85\n",
      "Epoch 42/50: Loss = 0.4913, Train Acc = 0.80, Test Acc = 0.90\n",
      "Epoch 43/50: Loss = 0.4890, Train Acc = 0.81, Test Acc = 0.90\n",
      "Epoch 44/50: Loss = 0.4870, Train Acc = 0.81, Test Acc = 0.95\n",
      "Epoch 45/50: Loss = 0.4852, Train Acc = 0.81, Test Acc = 0.95\n",
      "Epoch 46/50: Loss = 0.4837, Train Acc = 0.84, Test Acc = 1.00\n",
      "Epoch 47/50: Loss = 0.4823, Train Acc = 0.86, Test Acc = 1.00\n",
      "Epoch 48/50: Loss = 0.4811, Train Acc = 0.88, Test Acc = 1.00\n",
      "Epoch 49/50: Loss = 0.4800, Train Acc = 0.88, Test Acc = 1.00\n",
      "Epoch 50/50: Loss = 0.4790, Train Acc = 0.89, Test Acc = 1.00\n"
     ]
    }
   ],
   "source": [
    "for epoch in range(num_epochs):\n",
    "    # Update parameters by taking a gradient step on the loss w.r.t. params\n",
    "    params = opt.step(lambda v: loss(v, X_train, y_train), params)\n",
    "    current_loss = loss(params, X_train, y_train)\n",
    "    train_acc = accuracy(params, X_train, y_train)\n",
    "    test_acc = accuracy(params, X_test, y_test)\n",
    "    \n",
    "    epoch_list.append(epoch+1)\n",
    "    loss_list.append(current_loss)\n",
    "    train_acc_list.append(train_acc)\n",
    "    test_acc_list.append(test_acc)\n",
    "    \n",
    "    print(f\"Epoch {epoch+1}/{num_epochs}: Loss = {current_loss:.4f}, \"\n",
    "          f\"Train Acc = {train_acc:.2f}, Test Acc = {test_acc:.2f}\")"
   ]
  },
  {
   "cell_type": "markdown",
   "id": "bfd81286-68e4-4d66-acc9-9d4e42ee56ad",
   "metadata": {},
   "source": [
    "## Final Results\n",
    "\n",
    "We evaluate the final performance after training completes."
   ]
  },
  {
   "cell_type": "code",
   "execution_count": 11,
   "id": "942e21b1-5d6e-4aad-9db3-680eda79da69",
   "metadata": {},
   "outputs": [
    {
     "name": "stdout",
     "output_type": "stream",
     "text": [
      "Final Training Accuracy: 0.89\n",
      "Final Test Accuracy: 1.00\n"
     ]
    }
   ],
   "source": [
    "final_train_acc = accuracy(params, X_train, y_train)\n",
    "final_test_acc = accuracy(params, X_test, y_test)\n",
    "print(f\"Final Training Accuracy: {final_train_acc:.2f}\")\n",
    "print(f\"Final Test Accuracy: {final_test_acc:.2f}\")"
   ]
  },
  {
   "cell_type": "markdown",
   "id": "06a54497-4d91-4a75-b05e-d593e0b19444",
   "metadata": {},
   "source": [
    "## Plotting the Results"
   ]
  },
  {
   "cell_type": "code",
   "execution_count": 12,
   "id": "afb95504-c92f-4d5c-bf7c-cd6c107216bc",
   "metadata": {},
   "outputs": [
    {
     "data": {
      "image/png": "[encoded data removed]",
      "text/plain": [
       "<Figure size 1000x400 with 2 Axes>"
      ]
     },
     "metadata": {},
     "output_type": "display_data"
    }
   ],
   "source": [
    "plt.figure(figsize=(10,4))\n",
    "\n",
    "# Plot training loss\n",
    "plt.subplot(1, 2, 1)\n",
    "plt.plot(epoch_list, loss_list, marker='o', color='blue')\n",
    "plt.title(\"Training Loss over Epochs\")\n",
    "plt.xlabel(\"Epoch\")\n",
    "plt.ylabel(\"Loss\")\n",
    "\n",
    "# Plot accuracies\n",
    "plt.subplot(1, 2, 2)\n",
    "plt.plot(epoch_list, train_acc_list, marker='o', label=\"Train Acc\", color='green')\n",
    "plt.plot(epoch_list, test_acc_list, marker='o', label=\"Test Acc\", color='red')\n",
    "plt.title(\"Accuracy over Epochs\")\n",
    "plt.xlabel(\"Epoch\")\n",
    "plt.ylabel(\"Accuracy\")\n",
    "plt.legend()\n",
    "\n",
    "plt.tight_layout()\n",
    "plt.show()"
   ]
  },
  {
   "cell_type": "markdown",
   "id": "ae7705cb-1442-4e0a-8791-b3e3de7911bd",
   "metadata": {},
   "source": [
    "## Conclusion\n",
    "\n",
    "This notebook demonstrates a basic quantum machine learning pipeline: we took a classical dataset, encoded it into a quantum circuit, used a parameterized ansatz to learn decision boundaries, computed gradients of the quantum circuit w.r.t. its parameters, and optimized those parameters to minimize a loss function. We concluded by visualizing and interpreting the training dynamics through plots of loss and accuracy."
   ]
  }
 ],
 "metadata": {
  "kernelspec": {
   "display_name": "Python (my_venv)",
   "language": "python",
   "name": "qmlvenv"
  },
  "language_info": {
   "codemirror_mode": {
    "name": "ipython",
    "version": 3
   },
   "file_extension": ".py",
   "mimetype": "text/x-python",
   "name": "python",
   "nbconvert_exporter": "python",
   "pygments_lexer": "ipython3",
   "version": "3.12.7"
  }
 },
 "nbformat": 4,
 "nbformat_minor": 5
}
